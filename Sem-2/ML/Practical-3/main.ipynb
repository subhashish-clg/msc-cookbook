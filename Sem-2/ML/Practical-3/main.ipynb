{
 "cells": [
  {
   "cell_type": "markdown",
   "id": "09fc48ac",
   "metadata": {},
   "source": [
    "## Practical 3\n",
    "\n",
    "**Aim**: Implements Multinomial Logistic Regression (Iris Dataset).\n"
   ]
  },
  {
   "cell_type": "code",
   "execution_count": 9,
   "id": "38e5bf5f",
   "metadata": {},
   "outputs": [
    {
     "name": "stdout",
     "output_type": "stream",
     "text": [
      "Requirement already satisfied: numpy in d:\\subhashish\\msc-cookbook\\sem-2\\ml\\.venv\\lib\\site-packages (2.3.1)\n",
      "Requirement already satisfied: scikit-learn in d:\\subhashish\\msc-cookbook\\sem-2\\ml\\.venv\\lib\\site-packages (1.7.0)\n",
      "Requirement already satisfied: pandas in d:\\subhashish\\msc-cookbook\\sem-2\\ml\\.venv\\lib\\site-packages (2.3.0)\n"
     ]
    },
    {
     "name": "stderr",
     "output_type": "stream",
     "text": [
      "ERROR: Ignored the following versions that require a different python version: 1.10.0 Requires-Python <3.12,>=3.8; 1.10.0rc1 Requires-Python <3.12,>=3.8; 1.10.0rc2 Requires-Python <3.12,>=3.8; 1.10.1 Requires-Python <3.12,>=3.8; 1.6.2 Requires-Python >=3.7,<3.10; 1.6.3 Requires-Python >=3.7,<3.10; 1.7.0 Requires-Python >=3.7,<3.10; 1.7.1 Requires-Python >=3.7,<3.10; 1.7.2 Requires-Python >=3.7,<3.11; 1.7.3 Requires-Python >=3.7,<3.11; 1.8.0 Requires-Python >=3.8,<3.11; 1.8.0rc1 Requires-Python >=3.8,<3.11; 1.8.0rc2 Requires-Python >=3.8,<3.11; 1.8.0rc3 Requires-Python >=3.8,<3.11; 1.8.0rc4 Requires-Python >=3.8,<3.11; 1.8.1 Requires-Python >=3.8,<3.11; 1.9.0 Requires-Python >=3.8,<3.12; 1.9.0rc1 Requires-Python >=3.8,<3.12; 1.9.0rc2 Requires-Python >=3.8,<3.12; 1.9.0rc3 Requires-Python >=3.8,<3.12; 1.9.1 Requires-Python >=3.8,<3.12\n",
      "ERROR: Could not find a version that satisfies the requirement scipy==1.10.1 (from versions: 0.8.0, 0.9.0, 0.10.0, 0.10.1, 0.11.0, 0.12.0, 0.12.1, 0.13.0, 0.13.1, 0.13.2, 0.13.3, 0.14.0, 0.14.1, 0.15.0, 0.15.1, 0.16.0, 0.16.1, 0.17.0, 0.17.1, 0.18.0, 0.18.1, 0.19.0, 0.19.1, 1.0.0, 1.0.1, 1.1.0, 1.2.0, 1.2.1, 1.2.2, 1.2.3, 1.3.0, 1.3.1, 1.3.2, 1.3.3, 1.4.0, 1.4.1, 1.5.0, 1.5.1, 1.5.2, 1.5.3, 1.5.4, 1.6.0, 1.6.1, 1.9.2, 1.9.3, 1.11.0rc1, 1.11.0rc2, 1.11.0, 1.11.1, 1.11.2, 1.11.3, 1.11.4, 1.12.0rc1, 1.12.0rc2, 1.12.0, 1.13.0rc1, 1.13.0, 1.13.1, 1.14.0rc1, 1.14.0rc2, 1.14.0, 1.14.1, 1.15.0rc1, 1.15.0rc2, 1.15.0, 1.15.1, 1.15.2, 1.15.3, 1.16.0rc1, 1.16.0rc2, 1.16.0)\n",
      "ERROR: No matching distribution found for scipy==1.10.1\n",
      "\n",
      "[notice] A new release of pip is available: 23.2.1 -> 25.1.1\n",
      "[notice] To update, run: python.exe -m pip install --upgrade pip\n"
     ]
    }
   ],
   "source": [
    "!pip install numpy scikit-learn pandas scipy==1.10.1 statsmodels"
   ]
  },
  {
   "cell_type": "code",
   "execution_count": 1,
   "id": "6bbd4a9a",
   "metadata": {},
   "outputs": [
    {
     "name": "stderr",
     "output_type": "stream",
     "text": [
      "d:\\subhashish\\msc-cookbook\\Sem-2\\ML\\.venv\\Lib\\site-packages\\sklearn\\linear_model\\_logistic.py:1264: FutureWarning: 'multi_class' was deprecated in version 1.5 and will be removed in 1.7. From then on, it will always use 'multinomial'. Leave it to its default value to avoid this warning.\n",
      "  warnings.warn(\n",
      "d:\\subhashish\\msc-cookbook\\Sem-2\\ML\\.venv\\Lib\\site-packages\\sklearn\\linear_model\\_logistic.py:1264: FutureWarning: 'multi_class' was deprecated in version 1.5 and will be removed in 1.7. From then on, it will always use 'multinomial'. Leave it to its default value to avoid this warning.\n",
      "  warnings.warn(\n",
      "d:\\subhashish\\msc-cookbook\\Sem-2\\ML\\.venv\\Lib\\site-packages\\sklearn\\linear_model\\_logistic.py:1264: FutureWarning: 'multi_class' was deprecated in version 1.5 and will be removed in 1.7. From then on, it will always use 'multinomial'. Leave it to its default value to avoid this warning.\n",
      "  warnings.warn(\n",
      "d:\\subhashish\\msc-cookbook\\Sem-2\\ML\\.venv\\Lib\\site-packages\\sklearn\\linear_model\\_logistic.py:1264: FutureWarning: 'multi_class' was deprecated in version 1.5 and will be removed in 1.7. From then on, it will always use 'multinomial'. Leave it to its default value to avoid this warning.\n",
      "  warnings.warn(\n",
      "d:\\subhashish\\msc-cookbook\\Sem-2\\ML\\.venv\\Lib\\site-packages\\sklearn\\linear_model\\_logistic.py:1264: FutureWarning: 'multi_class' was deprecated in version 1.5 and will be removed in 1.7. From then on, it will always use 'multinomial'. Leave it to its default value to avoid this warning.\n",
      "  warnings.warn(\n",
      "d:\\subhashish\\msc-cookbook\\Sem-2\\ML\\.venv\\Lib\\site-packages\\sklearn\\linear_model\\_logistic.py:1264: FutureWarning: 'multi_class' was deprecated in version 1.5 and will be removed in 1.7. From then on, it will always use 'multinomial'. Leave it to its default value to avoid this warning.\n",
      "  warnings.warn(\n"
     ]
    },
    {
     "name": "stdout",
     "output_type": "stream",
     "text": [
      "Accuracy: 1.00\n",
      "Error rate: 0.00\n",
      "Cross-Validation Accuracy: 0.97 (+/- 0.10)\n",
      "\n",
      "Confusion Matrix:\n",
      " [[10  0  0]\n",
      " [ 0  9  0]\n",
      " [ 0  0 11]]\n"
     ]
    },
    {
     "data": {
      "image/png": "[encoded data removed]",
      "text/plain": [
       "<Figure size 480x480 with 2 Axes>"
      ]
     },
     "metadata": {},
     "output_type": "display_data"
    },
    {
     "name": "stdout",
     "output_type": "stream",
     "text": [
      "\n",
      "Predicted Probabilities:\n",
      " [[3.79689810e-03 8.27256284e-01 1.68946818e-01]\n",
      " [9.46826471e-01 5.31733295e-02 1.99615578e-07]\n",
      " [8.77983039e-09 1.55376783e-03 9.98446223e-01]\n",
      " [6.45430989e-03 7.92156630e-01 2.01389060e-01]\n",
      " [1.44797015e-03 7.74218420e-01 2.24333610e-01]\n",
      " [9.55789632e-01 4.42101918e-02 1.76612438e-07]\n",
      " [7.77234132e-02 9.07985388e-01 1.42911991e-02]\n",
      " [1.62249176e-04 1.55484429e-01 8.44353322e-01]\n",
      " [2.21306755e-03 7.62981425e-01 2.34805508e-01]\n",
      " [2.83643420e-02 9.45774028e-01 2.58616301e-02]\n",
      " [4.41748370e-04 2.43099926e-01 7.56458326e-01]\n",
      " [9.68245846e-01 3.17540756e-02 7.80357098e-08]\n",
      " [9.72953124e-01 2.70468424e-02 3.32903521e-08]\n",
      " [9.62040200e-01 3.79596893e-02 1.10857725e-07]\n",
      " [9.79278911e-01 2.07210242e-02 6.46695857e-08]\n",
      " [4.56298685e-03 7.12455809e-01 2.82981204e-01]\n",
      " [7.26039927e-06 2.41851486e-02 9.75807591e-01]\n",
      " [2.73519473e-02 9.47707486e-01 2.49405666e-02]\n",
      " [8.25015848e-03 8.31230547e-01 1.60519295e-01]\n",
      " [1.42579408e-05 3.59274345e-02 9.64058308e-01]\n",
      " [9.64308215e-01 3.56915925e-02 1.92780812e-07]\n",
      " [1.31882506e-03 3.99077374e-01 5.99603801e-01]\n",
      " [9.61608567e-01 3.83911723e-02 2.60923269e-07]\n",
      " [1.86247863e-05 4.58478161e-02 9.54133559e-01]\n",
      " [1.64911556e-06 2.57697037e-02 9.74228647e-01]\n",
      " [9.37130111e-05 1.04959315e-01 8.94946972e-01]\n",
      " [8.72941282e-06 5.83344427e-02 9.41656828e-01]\n",
      " [4.32172080e-06 1.88238400e-02 9.81171838e-01]\n",
      " [9.66777950e-01 3.32219145e-02 1.35734961e-07]\n",
      " [9.56232932e-01 4.37668354e-02 2.32294542e-07]]\n",
      "Manual Calculated Accuracy is: 100.00%\n",
      "\n",
      "Misclassified Predictions:\n",
      " Empty DataFrame\n",
      "Columns: [0, 1, 2, sum, predicted_class, actual_class, correct_prediction?]\n",
      "Index: []\n",
      "Optimization terminated successfully.\n",
      "         Current function value: nan\n",
      "         Iterations 26\n",
      "                          MNLogit Regression Results                          \n",
      "==============================================================================\n",
      "Dep. Variable:                species   No. Observations:                  150\n",
      "Model:                        MNLogit   Df Residuals:                      140\n",
      "Method:                           MLE   Df Model:                            8\n",
      "Date:                Fri, 27 Jun 2025   Pseudo R-squ.:                     nan\n",
      "Time:                        17:31:18   Log-Likelihood:                    nan\n",
      "converged:                       True   LL-Null:                       -164.79\n",
      "Covariance Type:            nonrobust   LLR p-value:                       nan\n",
      "=====================================================================================\n",
      "        species=1       coef    std err          z      P>|z|      [0.025      0.975]\n",
      "-------------------------------------------------------------------------------------\n",
      "const                    nan        nan        nan        nan         nan         nan\n",
      "sepal length (cm)        nan        nan        nan        nan         nan         nan\n",
      "sepal width (cm)         nan        nan        nan        nan         nan         nan\n",
      "petal length (cm)        nan        nan        nan        nan         nan         nan\n",
      "petal width (cm)         nan        nan        nan        nan         nan         nan\n",
      "-------------------------------------------------------------------------------------\n",
      "        species=2       coef    std err          z      P>|z|      [0.025      0.975]\n",
      "-------------------------------------------------------------------------------------\n",
      "const                    nan        nan        nan        nan         nan         nan\n",
      "sepal length (cm)        nan        nan        nan        nan         nan         nan\n",
      "sepal width (cm)         nan        nan        nan        nan         nan         nan\n",
      "petal length (cm)        nan        nan        nan        nan         nan         nan\n",
      "petal width (cm)         nan        nan        nan        nan         nan         nan\n",
      "=====================================================================================\n"
     ]
    },
    {
     "name": "stderr",
     "output_type": "stream",
     "text": [
      "d:\\subhashish\\msc-cookbook\\Sem-2\\ML\\.venv\\Lib\\site-packages\\statsmodels\\discrete\\discrete_model.py:3027: RuntimeWarning: overflow encountered in exp\n",
      "  eXB = np.column_stack((np.ones(len(X)), np.exp(X)))\n",
      "d:\\subhashish\\msc-cookbook\\Sem-2\\ML\\.venv\\Lib\\site-packages\\statsmodels\\discrete\\discrete_model.py:3028: RuntimeWarning: invalid value encountered in divide\n",
      "  return eXB/eXB.sum(1)[:,None]\n"
     ]
    }
   ],
   "source": [
    "# Logistic Regression with Iris Dataset\n",
    "\n",
    "# Step 1: Import Necessary Libraries\n",
    "import numpy as np\n",
    "import pandas as pd\n",
    "from sklearn.linear_model import LogisticRegression\n",
    "from sklearn.model_selection import train_test_split, cross_val_score\n",
    "from sklearn import preprocessing\n",
    "from sklearn.metrics import accuracy_score, confusion_matrix\n",
    "import matplotlib.pyplot as plt\n",
    "import statsmodels.api as sm  # For detailed statistical summary\n",
    "from sklearn import datasets\n",
    "\n",
    "# Step 2: Load the Iris Dataset\n",
    "iris = datasets.load_iris()\n",
    "X = pd.DataFrame(iris.data, columns=iris.feature_names)\n",
    "y = pd.Series(iris.target, name='species')\n",
    "\n",
    "# Step 3: Split the Data (80% training, 20% testing)\n",
    "trainX, testX, trainY, testY = train_test_split(X, y, test_size=0.2, random_state=42)\n",
    "\n",
    "# Step 4: Initialize and Train the Logistic Regression Model\n",
    "log_reg = LogisticRegression(solver='newton-cg', multi_class='multinomial', max_iter=200)\n",
    "log_reg.fit(trainX, trainY)\n",
    "\n",
    "# Step 5: Make Predictions\n",
    "y_pred = log_reg.predict(testX)\n",
    "\n",
    "# Step 6: Evaluate the Model\n",
    "print('Accuracy: {:.2f}'.format(accuracy_score(testY, y_pred)))\n",
    "print('Error rate: {:.2f}'.format(1 - accuracy_score(testY, y_pred)))\n",
    "\n",
    "# Step 7: Cross-Validation Scores\n",
    "clf = LogisticRegression(solver='newton-cg', multi_class='multinomial', max_iter=200)\n",
    "scores = cross_val_score(clf, trainX, trainY, cv=5)\n",
    "print(\"Cross-Validation Accuracy: %0.2f (+/- %0.2f)\" % (scores.mean(), scores.std() * 2))\n",
    "\n",
    "# Step 8: Confusion Matrix\n",
    "conf_matrix = confusion_matrix(testY, y_pred)\n",
    "print(\"\\nConfusion Matrix:\\n\", conf_matrix)\n",
    "\n",
    "# Visualize the Confusion Matrix\n",
    "plt.matshow(conf_matrix, cmap=plt.cm.gray)\n",
    "plt.title('Confusion Matrix')\n",
    "plt.colorbar()\n",
    "plt.ylabel('True Label')\n",
    "plt.xlabel('Predicted Label')\n",
    "plt.show()\n",
    "\n",
    "# Step 9: Predicted Class Probabilities\n",
    "probability = log_reg.predict_proba(testX)\n",
    "print(\"\\nPredicted Probabilities:\\n\", probability)\n",
    "\n",
    "# Convert to DataFrame for Better Visualization\n",
    "df = pd.DataFrame(probability, columns=log_reg.classes_)\n",
    "\n",
    "# Step 10: Verify Probabilities Sum to 1\n",
    "df['sum'] = df.sum(axis=1)\n",
    "\n",
    "# Step 11: Add Predicted and Actual Classes\n",
    "df['predicted_class'] = y_pred\n",
    "df['actual_class'] = testY.reset_index(drop=True)\n",
    "\n",
    "# Step 12: Check if Predictions are Correct\n",
    "df['correct_prediction?'] = df['predicted_class'] == df['actual_class']\n",
    "\n",
    "# Step 13: Manually Calculate Accuracy\n",
    "true_predictions = df['correct_prediction?'].sum()\n",
    "total = df.shape[0]\n",
    "print('Manual Calculated Accuracy is: {:.2f}%'.format((true_predictions / total) * 100))\n",
    "\n",
    "# Step 14: Inspect Misclassified Instances\n",
    "wrong_pred = df[df[\"correct_prediction?\"] == False]\n",
    "print(\"\\nMisclassified Predictions:\\n\", wrong_pred)\n",
    "\n",
    "# Step 15: Multinomial Logit Model with Statsmodels\n",
    "# Add constant term for intercept\n",
    "X_sm = sm.add_constant(X)\n",
    "mnlogit_mod = sm.MNLogit(y, X_sm)\n",
    "mnlogit_fit = mnlogit_mod.fit(maxiter=100)\n",
    "print(mnlogit_fit.summary())"
   ]
  }
 ],
 "metadata": {
  "kernelspec": {
   "display_name": ".venv",
   "language": "python",
   "name": "python3"
  },
  "language_info": {
   "codemirror_mode": {
    "name": "ipython",
    "version": 3
   },
   "file_extension": ".py",
   "mimetype": "text/x-python",
   "name": "python",
   "nbconvert_exporter": "python",
   "pygments_lexer": "ipython3",
   "version": "3.12.1"
  }
 },
 "nbformat": 4,
 "nbformat_minor": 5
}
