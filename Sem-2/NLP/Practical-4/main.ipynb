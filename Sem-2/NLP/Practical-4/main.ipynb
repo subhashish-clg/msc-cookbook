{
 "cells": [
  {
   "cell_type": "markdown",
   "id": "e47dbfd5",
   "metadata": {},
   "source": [
    "## Natural Language Processing Practical 4A\n",
    "\n",
    "Aim: Write a program to Implement PoS tagging using HMM."
   ]
  },
  {
   "cell_type": "code",
   "execution_count": 2,
   "id": "e754da59",
   "metadata": {},
   "outputs": [
    {
     "name": "stdout",
     "output_type": "stream",
     "text": [
      "Requirement already satisfied: nltk in d:\\subhashish\\msc-cookbook\\sem-2\\nlp\\.venv\\lib\\site-packages (3.9.1)\n",
      "Collecting numpy\n",
      "  Obtaining dependency information for numpy from https://files.pythonhosted.org/packages/b1/3e/e28f4c1dd9e042eb57a3eb652f200225e311b608632bc727ae378623d4f8/numpy-2.3.1-cp312-cp312-win_amd64.whl.metadata\n",
      "  Using cached numpy-2.3.1-cp312-cp312-win_amd64.whl.metadata (60 kB)\n",
      "Requirement already satisfied: click in d:\\subhashish\\msc-cookbook\\sem-2\\nlp\\.venv\\lib\\site-packages (from nltk) (8.2.1)\n",
      "Requirement already satisfied: joblib in d:\\subhashish\\msc-cookbook\\sem-2\\nlp\\.venv\\lib\\site-packages (from nltk) (1.5.1)\n",
      "Requirement already satisfied: regex>=2021.8.3 in d:\\subhashish\\msc-cookbook\\sem-2\\nlp\\.venv\\lib\\site-packages (from nltk) (2024.11.6)\n",
      "Requirement already satisfied: tqdm in d:\\subhashish\\msc-cookbook\\sem-2\\nlp\\.venv\\lib\\site-packages (from nltk) (4.67.1)\n",
      "Requirement already satisfied: colorama in d:\\subhashish\\msc-cookbook\\sem-2\\nlp\\.venv\\lib\\site-packages (from click->nltk) (0.4.6)\n",
      "Using cached numpy-2.3.1-cp312-cp312-win_amd64.whl (12.7 MB)\n",
      "Installing collected packages: numpy\n",
      "Successfully installed numpy-2.3.1\n"
     ]
    },
    {
     "name": "stderr",
     "output_type": "stream",
     "text": [
      "\n",
      "[notice] A new release of pip is available: 23.2.1 -> 25.1.1\n",
      "[notice] To update, run: python.exe -m pip install --upgrade pip\n"
     ]
    }
   ],
   "source": [
    "!pip install nltk numpy"
   ]
  },
  {
   "cell_type": "code",
   "execution_count": 7,
   "id": "b32374ba",
   "metadata": {},
   "outputs": [
    {
     "name": "stderr",
     "output_type": "stream",
     "text": [
      "[nltk_data] Downloading package treebank to\n",
      "[nltk_data]     C:\\Users\\subha\\AppData\\Roaming\\nltk_data...\n",
      "[nltk_data]   Package treebank is already up-to-date!\n",
      "[nltk_data] Downloading package punkt to\n",
      "[nltk_data]     C:\\Users\\subha\\AppData\\Roaming\\nltk_data...\n",
      "[nltk_data]   Package punkt is already up-to-date!\n"
     ]
    },
    {
     "ename": "NameError",
     "evalue": "name 'np' is not defined",
     "output_type": "error",
     "traceback": [
      "\u001b[31m---------------------------------------------------------------------------\u001b[39m",
      "\u001b[31mNameError\u001b[39m                                 Traceback (most recent call last)",
      "\u001b[36mCell\u001b[39m\u001b[36m \u001b[39m\u001b[32mIn[7]\u001b[39m\u001b[32m, line 25\u001b[39m\n\u001b[32m     23\u001b[39m \u001b[38;5;66;03m# Tokenize and POS tag the sentence\u001b[39;00m\n\u001b[32m     24\u001b[39m tokens = nltk.word_tokenize(sentence)\n\u001b[32m---> \u001b[39m\u001b[32m25\u001b[39m tags = \u001b[43mtagger\u001b[49m\u001b[43m.\u001b[49m\u001b[43mtag\u001b[49m\u001b[43m(\u001b[49m\u001b[43mtokens\u001b[49m\u001b[43m)\u001b[49m\n\u001b[32m     27\u001b[39m \u001b[38;5;66;03m# Print the tagged words\u001b[39;00m\n\u001b[32m     28\u001b[39m \u001b[38;5;28mprint\u001b[39m(\u001b[33m\"\u001b[39m\u001b[38;5;130;01m\\n\u001b[39;00m\u001b[33mPOS Tags:\u001b[39m\u001b[33m\"\u001b[39m)\n",
      "\u001b[36mFile \u001b[39m\u001b[32md:\\subhashish\\msc-cookbook\\Sem-2\\NLP\\.venv\\Lib\\site-packages\\nltk\\tag\\hmm.py:287\u001b[39m, in \u001b[36mHiddenMarkovModelTagger.tag\u001b[39m\u001b[34m(self, unlabeled_sequence)\u001b[39m\n\u001b[32m    277\u001b[39m \u001b[38;5;250m\u001b[39m\u001b[33;03m\"\"\"\u001b[39;00m\n\u001b[32m    278\u001b[39m \u001b[33;03mTags the sequence with the highest probability state sequence. This\u001b[39;00m\n\u001b[32m    279\u001b[39m \u001b[33;03muses the best_path method to find the Viterbi path.\u001b[39;00m\n\u001b[32m   (...)\u001b[39m\u001b[32m    284\u001b[39m \u001b[33;03m:type unlabeled_sequence: list\u001b[39;00m\n\u001b[32m    285\u001b[39m \u001b[33;03m\"\"\"\u001b[39;00m\n\u001b[32m    286\u001b[39m unlabeled_sequence = \u001b[38;5;28mself\u001b[39m._transform(unlabeled_sequence)\n\u001b[32m--> \u001b[39m\u001b[32m287\u001b[39m \u001b[38;5;28;01mreturn\u001b[39;00m \u001b[38;5;28;43mself\u001b[39;49m\u001b[43m.\u001b[49m\u001b[43m_tag\u001b[49m\u001b[43m(\u001b[49m\u001b[43munlabeled_sequence\u001b[49m\u001b[43m)\u001b[49m\n",
      "\u001b[36mFile \u001b[39m\u001b[32md:\\subhashish\\msc-cookbook\\Sem-2\\NLP\\.venv\\Lib\\site-packages\\nltk\\tag\\hmm.py:290\u001b[39m, in \u001b[36mHiddenMarkovModelTagger._tag\u001b[39m\u001b[34m(self, unlabeled_sequence)\u001b[39m\n\u001b[32m    289\u001b[39m \u001b[38;5;28;01mdef\u001b[39;00m\u001b[38;5;250m \u001b[39m\u001b[34m_tag\u001b[39m(\u001b[38;5;28mself\u001b[39m, unlabeled_sequence):\n\u001b[32m--> \u001b[39m\u001b[32m290\u001b[39m     path = \u001b[38;5;28;43mself\u001b[39;49m\u001b[43m.\u001b[49m\u001b[43m_best_path\u001b[49m\u001b[43m(\u001b[49m\u001b[43munlabeled_sequence\u001b[49m\u001b[43m)\u001b[49m\n\u001b[32m    291\u001b[39m     \u001b[38;5;28;01mreturn\u001b[39;00m \u001b[38;5;28mlist\u001b[39m(\u001b[38;5;28mzip\u001b[39m(unlabeled_sequence, path))\n",
      "\u001b[36mFile \u001b[39m\u001b[32md:\\subhashish\\msc-cookbook\\Sem-2\\NLP\\.venv\\Lib\\site-packages\\nltk\\tag\\hmm.py:389\u001b[39m, in \u001b[36mHiddenMarkovModelTagger._best_path\u001b[39m\u001b[34m(self, unlabeled_sequence)\u001b[39m\n\u001b[32m    387\u001b[39m T = \u001b[38;5;28mlen\u001b[39m(unlabeled_sequence)\n\u001b[32m    388\u001b[39m N = \u001b[38;5;28mlen\u001b[39m(\u001b[38;5;28mself\u001b[39m._states)\n\u001b[32m--> \u001b[39m\u001b[32m389\u001b[39m \u001b[38;5;28;43mself\u001b[39;49m\u001b[43m.\u001b[49m\u001b[43m_create_cache\u001b[49m\u001b[43m(\u001b[49m\u001b[43m)\u001b[49m\n\u001b[32m    390\u001b[39m \u001b[38;5;28mself\u001b[39m._update_cache(unlabeled_sequence)\n\u001b[32m    391\u001b[39m P, O, X, S = \u001b[38;5;28mself\u001b[39m._cache\n",
      "\u001b[36mFile \u001b[39m\u001b[32md:\\subhashish\\msc-cookbook\\Sem-2\\NLP\\.venv\\Lib\\site-packages\\nltk\\tag\\hmm.py:326\u001b[39m, in \u001b[36mHiddenMarkovModelTagger._create_cache\u001b[39m\u001b[34m(self)\u001b[39m\n\u001b[32m    324\u001b[39m N = \u001b[38;5;28mlen\u001b[39m(\u001b[38;5;28mself\u001b[39m._states)\n\u001b[32m    325\u001b[39m M = \u001b[38;5;28mlen\u001b[39m(\u001b[38;5;28mself\u001b[39m._symbols)\n\u001b[32m--> \u001b[39m\u001b[32m326\u001b[39m P = \u001b[43mnp\u001b[49m.zeros(N, np.float32)\n\u001b[32m    327\u001b[39m X = np.zeros((N, N), np.float32)\n\u001b[32m    328\u001b[39m O = np.zeros((N, M), np.float32)\n",
      "\u001b[31mNameError\u001b[39m: name 'np' is not defined"
     ]
    }
   ],
   "source": [
    "import nltk\n",
    "from nltk.tag import hmm\n",
    "from nltk.corpus import treebank\n",
    "import numpy as np\n",
    "\n",
    "# Download necessary NLTK data\n",
    "nltk.download('treebank')\n",
    "nltk.download('punkt')\n",
    "\n",
    "# Load the Treebank corpus for training and testing\n",
    "train_data = treebank.tagged_sents()[:3000]\n",
    "test_data = treebank.tagged_sents()[3000:]\n",
    "\n",
    "# Train the HMM POS tagger\n",
    "tagger = hmm.HiddenMarkovModelTrainer().train(train_data)\n",
    "\n",
    "# Evaluate the tagger on the test data\n",
    "# print(f\"Accuracy: {tagger.accuracy(test_data) * 100:.2f}%\")\n",
    "\n",
    "# Example sentence for POS tagging\n",
    "sentence = \"The quick brown fox jumped over the lazy dog.\"\n",
    "\n",
    "# Tokenize and POS tag the sentence\n",
    "tokens = nltk.word_tokenize(sentence)\n",
    "tags = tagger.tag(tokens)\n",
    "\n",
    "# Print the tagged words\n",
    "print(\"\\nPOS Tags:\")\n",
    "for word, tag in tags:\n",
    "    print(f\"{word}: {tag}\")"
   ]
  }
 ],
 "metadata": {
  "kernelspec": {
   "display_name": ".venv",
   "language": "python",
   "name": "python3"
  },
  "language_info": {
   "codemirror_mode": {
    "name": "ipython",
    "version": 3
   },
   "file_extension": ".py",
   "mimetype": "text/x-python",
   "name": "python",
   "nbconvert_exporter": "python",
   "pygments_lexer": "ipython3",
   "version": "3.12.1"
  }
 },
 "nbformat": 4,
 "nbformat_minor": 5
}
