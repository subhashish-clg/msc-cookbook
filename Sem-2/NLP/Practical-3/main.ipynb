{
 "cells": [
  {
   "cell_type": "markdown",
   "id": "856ef258",
   "metadata": {},
   "source": [
    "## Natural Langugage Processing Practical 3\n",
    "\n",
    "Aim: Write a program to Implement a tri-gram model."
   ]
  },
  {
   "cell_type": "code",
   "execution_count": null,
   "id": "33d0502f",
   "metadata": {},
   "outputs": [],
   "source": [
    "!pip install nktl"
   ]
  },
  {
   "cell_type": "code",
   "execution_count": null,
   "id": "a6720ce9",
   "metadata": {},
   "outputs": [
    {
     "name": "stdout",
     "output_type": "stream",
     "text": [
      "('Natural', 'language')\n",
      "('language', 'processing')\n",
      "('processing', 'is')\n",
      "('is', 'a')\n",
      "('a', 'field')\n",
      "('field', 'of')\n",
      "('of', 'study')\n",
      "('study', 'focused')\n",
      "('focused', 'on')\n",
      "('on', 'the')\n",
      "('the', 'interactions')\n",
      "('interactions', 'between')\n",
      "('between', 'human')\n",
      "('human', 'language')\n",
      "('language', 'and')\n",
      "('and', 'computers.')\n",
      "('Natural', 'language', 'processing')\n",
      "('language', 'processing', 'is')\n",
      "('processing', 'is', 'a')\n",
      "('is', 'a', 'field')\n",
      "('a', 'field', 'of')\n",
      "('field', 'of', 'study')\n",
      "('of', 'study', 'focused')\n",
      "('study', 'focused', 'on')\n",
      "('focused', 'on', 'the')\n",
      "('on', 'the', 'interactions')\n",
      "('the', 'interactions', 'between')\n",
      "('interactions', 'between', 'human')\n",
      "('between', 'human', 'language')\n",
      "('human', 'language', 'and')\n",
      "('language', 'and', 'computers.')\n"
     ]
    }
   ],
   "source": [
    "from nltk.util import ngrams\n",
    "sentence = \"Natural language processing is a field of study focused on the interactions between human language and computers.\"\n",
    "\n",
    "# Tokenize the sentence into words\n",
    "words = sentence.split()\n",
    "\n",
    "# Create bigrams from the list of words\n",
    "\n",
    "bigrams = ngrams(words, 2) \n",
    "\n",
    "trigrams= ngrams(words, 3)\n",
    "\n",
    "# Print the bigrams\n",
    "for b in bigrams:\n",
    "    print(b)\n",
    "\n",
    "# Print the trigrams\n",
    "for t  in trigrams  :\n",
    "    print(t) "
   ]
  }
 ],
 "metadata": {
  "kernelspec": {
   "display_name": ".venv",
   "language": "python",
   "name": "python3"
  },
  "language_info": {
   "codemirror_mode": {
    "name": "ipython",
    "version": 3
   },
   "file_extension": ".py",
   "mimetype": "text/x-python",
   "name": "python",
   "nbconvert_exporter": "python",
   "pygments_lexer": "ipython3",
   "version": "3.12.1"
  }
 },
 "nbformat": 4,
 "nbformat_minor": 5
}
