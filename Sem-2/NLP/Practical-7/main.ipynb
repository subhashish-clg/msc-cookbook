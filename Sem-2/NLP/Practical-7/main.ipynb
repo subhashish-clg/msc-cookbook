{
 "cells": [
  {
   "cell_type": "markdown",
   "id": "534f9b3a",
   "metadata": {},
   "source": [
    "## Natural Language Processing Practical 7\n",
    "\n",
    "Aim: Write a program to Implement Named Entity Recognition (NER)."
   ]
  },
  {
   "cell_type": "code",
   "execution_count": null,
   "id": "b89add94",
   "metadata": {},
   "outputs": [],
   "source": [
    "!pip install spacy"
   ]
  },
  {
   "cell_type": "code",
   "execution_count": null,
   "id": "28b4d8a1",
   "metadata": {},
   "outputs": [],
   "source": [
    "!python -m spacy download en_core_web_sm"
   ]
  },
  {
   "cell_type": "code",
   "execution_count": 2,
   "id": "3356612d",
   "metadata": {},
   "outputs": [
    {
     "name": "stdout",
     "output_type": "stream",
     "text": [
      "Named Entities, their labels, and explanations:\n",
      "\n",
      "Apple Inc.                     ORG        (Companies, agencies, institutions, etc.)\n",
      "Steve Jobs                     PERSON     (People, including fictional)\n",
      "Steve Wozniak                  PERSON     (People, including fictional)\n",
      "Ronald Wayne                   PERSON     (People, including fictional)\n",
      "April 1976                     DATE       (Absolute or relative dates or periods)\n",
      "Cupertino                      GPE        (Countries, cities, states)\n",
      "California                     GPE        (Countries, cities, states)\n",
      "iPhone                         ORG        (Companies, agencies, institutions, etc.)\n",
      "2007                           DATE       (Absolute or relative dates or periods)\n"
     ]
    }
   ],
   "source": [
    "import spacy\n",
    "\n",
    "# Load English model\n",
    "nlp = spacy.load(\"en_core_web_sm\")\n",
    "# Sample text\n",
    "text = \"\"\"\n",
    "Apple Inc. was founded by Steve Jobs, Steve Wozniak, and Ronald Wayne in April 1976.\n",
    "Its headquarters are located in Cupertino, California. The company launched the iPhone in\n",
    "2007.\n",
    "\"\"\"\n",
    "# Process the text\n",
    "doc = nlp(text)\n",
    "# Print named entities\n",
    "print(\"Named Entities, their labels, and explanations:\\n\")\n",
    "\n",
    "for ent in doc.ents:\n",
    "    print(f\"{ent.text:<30} {ent.label_:<10} ({spacy.explain(ent.label_)})\")"
   ]
  }
 ],
 "metadata": {
  "kernelspec": {
   "display_name": ".venv",
   "language": "python",
   "name": "python3"
  },
  "language_info": {
   "codemirror_mode": {
    "name": "ipython",
    "version": 3
   },
   "file_extension": ".py",
   "mimetype": "text/x-python",
   "name": "python",
   "nbconvert_exporter": "python",
   "pygments_lexer": "ipython3",
   "version": "3.12.1"
  }
 },
 "nbformat": 4,
 "nbformat_minor": 5
}
