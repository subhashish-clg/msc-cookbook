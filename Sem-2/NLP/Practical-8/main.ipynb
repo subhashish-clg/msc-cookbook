{
 "cells": [
  {
   "cell_type": "markdown",
   "id": "72cb1811",
   "metadata": {},
   "source": [
    "## Natural Language Processing Practical 8\n",
    "\n",
    "Aim: Write a program to Implement Text Summarization for the given sample text."
   ]
  },
  {
   "cell_type": "code",
   "execution_count": null,
   "id": "e8381bf6",
   "metadata": {},
   "outputs": [],
   "source": [
    "!pip install nltk"
   ]
  },
  {
   "cell_type": "code",
   "execution_count": 1,
   "id": "9fe60bd0",
   "metadata": {},
   "outputs": [
    {
     "name": "stderr",
     "output_type": "stream",
     "text": [
      "[nltk_data] Downloading package punkt to\n",
      "[nltk_data]     C:\\Users\\subha\\AppData\\Roaming\\nltk_data...\n",
      "[nltk_data]   Package punkt is already up-to-date!\n",
      "[nltk_data] Downloading package stopwords to\n",
      "[nltk_data]     C:\\Users\\subha\\AppData\\Roaming\\nltk_data...\n",
      "[nltk_data]   Unzipping corpora\\stopwords.zip.\n"
     ]
    },
    {
     "name": "stdout",
     "output_type": "stream",
     "text": [
      "===== Summary =====\n",
      "\n",
      "Artificial Intelligence (AI) is a branch of computer science that aims to create machines\n",
      "that can perform tasks that would typically require human intelligence.AI has a\n",
      "wide range of applications, from self-driving cars to virtual assistants like Siri and Alexa.\n"
     ]
    }
   ],
   "source": [
    "import nltk\n",
    "import re\n",
    "import heapq\n",
    "\n",
    "# Download required nltk data\n",
    "nltk.download('punkt')\n",
    "nltk.download('stopwords')\n",
    "\n",
    "from nltk.corpus import stopwords\n",
    "from nltk.tokenize import sent_tokenize, word_tokenize\n",
    "\n",
    "# 1. Sample text\n",
    "text = \"\"\"\n",
    "Artificial Intelligence (AI) is a branch of computer science that aims to create machines\n",
    "that can perform tasks that would typically require human intelligence. These tasks include\n",
    "speech recognition, decision-making, visual perception, and language translation. AI has a\n",
    "wide range of applications, from self-driving cars to virtual assistants like Siri and Alexa.\n",
    "The growth of AI has sparked debates on ethics and job displacement. Despite challenges, AI\n",
    "continues to be a transformative force in the tech industry.\n",
    "\"\"\"\n",
    "\n",
    "# 2. Text cleaning\n",
    "clean_text = re.sub(r'\\s+', ' ', text)\n",
    "clean_text = re.sub(r'[^a-zA-Z]', ' ', clean_text)\n",
    "clean_text = re.sub(r'\\s+', ' ', clean_text)\n",
    "\n",
    "# 3. Sentence tokenization\n",
    "sentences = sent_tokenize(text)\n",
    "\n",
    "# 4. Word frequency table (excluding stopwords)\n",
    "stop_words = set(stopwords.words('english'))\n",
    "word_frequencies = {}\n",
    "for word in word_tokenize(clean_text.lower()):\n",
    "    if word not in stop_words:\n",
    "        if word not in word_frequencies:\n",
    "            word_frequencies[word] = 1\n",
    "        else:\n",
    "            word_frequencies[word] += 1\n",
    "\n",
    "# 5. Normalize word frequencies\n",
    "max_freq = max(word_frequencies.values())\n",
    "for word in word_frequencies:\n",
    "    word_frequencies[word] = word_frequencies[word] / max_freq\n",
    "\n",
    "# 6. Sentence scoring\n",
    "sentence_scores = {}\n",
    "for sent in sentences:\n",
    "    for word in word_tokenize(sent.lower()):\n",
    "        if word in word_frequencies:\n",
    "            if len(sent.split(\" \")) < 30: # avoid too long sentences\n",
    "                if sent not in sentence_scores:\n",
    "                    sentence_scores[sent] = word_frequencies[word]\n",
    "                else:\n",
    "                    sentence_scores[sent] += word_frequencies[word]\n",
    "\n",
    "# 7. Get top N sentences (summary)\n",
    "summary_sentences = heapq.nlargest(2, sentence_scores, key=sentence_scores.get)\n",
    "summary = ''.join(summary_sentences)\n",
    "\n",
    "# 8. Print the summary\n",
    "print(\"===== Summary =====\")\n",
    "print(summary)"
   ]
  }
 ],
 "metadata": {
  "kernelspec": {
   "display_name": ".venv",
   "language": "python",
   "name": "python3"
  },
  "language_info": {
   "codemirror_mode": {
    "name": "ipython",
    "version": 3
   },
   "file_extension": ".py",
   "mimetype": "text/x-python",
   "name": "python",
   "nbconvert_exporter": "python",
   "pygments_lexer": "ipython3",
   "version": "3.12.1"
  }
 },
 "nbformat": 4,
 "nbformat_minor": 5
}
