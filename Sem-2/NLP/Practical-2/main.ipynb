{
 "cells": [
  {
   "cell_type": "markdown",
   "id": "e298b72e",
   "metadata": {},
   "source": [
    "## Natural Language Processing Practical 2\n",
    "\n",
    "Aim: Write a program to Implement stemming and lemmatization."
   ]
  },
  {
   "cell_type": "code",
   "execution_count": null,
   "id": "9cce9229",
   "metadata": {},
   "outputs": [],
   "source": [
    "!pip install nltk"
   ]
  },
  {
   "cell_type": "code",
   "execution_count": null,
   "id": "bac378c2",
   "metadata": {},
   "outputs": [
    {
     "name": "stderr",
     "output_type": "stream",
     "text": [
      "[nltk_data] Downloading package punkt to\n",
      "[nltk_data]     C:\\Users\\subha\\AppData\\Roaming\\nltk_data...\n",
      "[nltk_data]   Package punkt is already up-to-date!\n",
      "[nltk_data] Downloading package wordnet to\n",
      "[nltk_data]     C:\\Users\\subha\\AppData\\Roaming\\nltk_data...\n",
      "[nltk_data]   Package wordnet is already up-to-date!\n",
      "[nltk_data] Downloading package averaged_perceptron_tagger to\n",
      "[nltk_data]     C:\\Users\\subha\\AppData\\Roaming\\nltk_data...\n",
      "[nltk_data]   Package averaged_perceptron_tagger is already up-to-\n",
      "[nltk_data]       date!\n",
      "[nltk_data] Downloading package averaged_perceptron_tagger_eng to\n",
      "[nltk_data]     C:\\Users\\subha\\AppData\\Roaming\\nltk_data...\n",
      "[nltk_data]   Package averaged_perceptron_tagger_eng is already up-to-\n",
      "[nltk_data]       date!\n"
     ]
    },
    {
     "name": "stdout",
     "output_type": "stream",
     "text": [
      "Original: A -> Lemmatized: A\n",
      "Original: quick -> Lemmatized: quick\n",
      "Original: brown -> Lemmatized: brown\n",
      "Original: fox -> Lemmatized: fox\n",
      "Original: is -> Lemmatized: be\n",
      "Original: jumping -> Lemmatized: jump\n",
      "Original: over -> Lemmatized: over\n",
      "Original: a -> Lemmatized: a\n",
      "Original: lazy -> Lemmatized: lazy\n",
      "Original: dog -> Lemmatized: dog\n",
      "Original: . -> Lemmatized: .\n"
     ]
    }
   ],
   "source": [
    "import nltk\n",
    "from nltk.stem import WordNetLemmatizer\n",
    "from nltk.corpus import wordnet\n",
    "\n",
    "# Download necessary NLTK data (WordNet and POS tagger)\n",
    "nltk.download('punkt')\n",
    "nltk.download('wordnet')\n",
    "nltk.download('averaged_perceptron_tagger')\n",
    "nltk.download('averaged_perceptron_tagger_eng')\n",
    "\n",
    "# Initialize the lemmatizer\n",
    "lemmatizer = WordNetLemmatizer()\n",
    "\n",
    "# Function to map POS tag to WordNet POS format\n",
    "def get_wordnet_pos(tag):\n",
    "    if tag.startswith('J'):\n",
    "        return wordnet.ADJ\n",
    "    elif tag.startswith('V'):\n",
    "        return wordnet.VERB\n",
    "    elif tag.startswith('N'):\n",
    "        return wordnet.NOUN\n",
    "    elif tag.startswith('R'):\n",
    "        return wordnet.ADV\n",
    "    else:\n",
    "        return wordnet.NOUN\n",
    "\n",
    "# Example text to lemmatize\n",
    "text = input(\"Enter words for Lemmatizing\")\n",
    "\n",
    "# Tokenize and POS tagging\n",
    "tokens = nltk.word_tokenize(text)\n",
    "pos_tags = nltk.pos_tag(tokens)\n",
    "\n",
    "# Lemmatize based on POS\n",
    "lemmatized_words = []\n",
    "for word, tag in pos_tags:\n",
    "    wordnet_pos = get_wordnet_pos(tag)\n",
    "    lemmatized_word = lemmatizer.lemmatize(word, wordnet_pos)\n",
    "    lemmatized_words.append((word, lemmatized_word))\n",
    "\n",
    "# Print the results\n",
    "for original, lemmatized in lemmatized_words:\n",
    "    print(f\"Originadl: {original} -> Lemmatized: {lemmatized}\")"
   ]
  }
 ],
 "metadata": {
  "kernelspec": {
   "display_name": ".venv",
   "language": "python",
   "name": "python3"
  },
  "language_info": {
   "codemirror_mode": {
    "name": "ipython",
    "version": 3
   },
   "file_extension": ".py",
   "mimetype": "text/x-python",
   "name": "python",
   "nbconvert_exporter": "python",
   "pygments_lexer": "ipython3",
   "version": "3.12.1"
  }
 },
 "nbformat": 4,
 "nbformat_minor": 5
}
