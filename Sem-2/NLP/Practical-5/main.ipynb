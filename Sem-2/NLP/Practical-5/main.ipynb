{
 "cells": [
  {
   "cell_type": "markdown",
   "id": "581ba42e",
   "metadata": {},
   "source": [
    "## Natural Language Processing Practical Number 5\n",
    "\n",
    "Aim: Write a program to Implement syntactic parsing of a given text."
   ]
  },
  {
   "cell_type": "code",
   "execution_count": null,
   "id": "058b1ba7",
   "metadata": {},
   "outputs": [],
   "source": [
    "!pip install nltk"
   ]
  },
  {
   "cell_type": "code",
   "execution_count": 1,
   "id": "9fa76d5b",
   "metadata": {},
   "outputs": [
    {
     "name": "stdout",
     "output_type": "stream",
     "text": [
      "Parsing Tree(s):\n",
      "\n",
      "(S\n",
      "  (NP (Det the) (Adj big) (N cat))\n",
      "  (VP (V chased) (NP (Det a) (Adj small) (N mouse))))\n",
      "              S                       \n",
      "      ________|_________               \n",
      "     |                  VP            \n",
      "     |         _________|____          \n",
      "     NP       |              NP       \n",
      "  ___|___     |      ________|_____    \n",
      "Det Adj  N    V    Det      Adj    N  \n",
      " |   |   |    |     |        |     |   \n",
      "the big cat chased  a      small mouse\n",
      "\n"
     ]
    },
    {
     "name": "stderr",
     "output_type": "stream",
     "text": [
      "[nltk_data] Downloading package punkt to\n",
      "[nltk_data]     C:\\Users\\subha\\AppData\\Roaming\\nltk_data...\n",
      "[nltk_data]   Package punkt is already up-to-date!\n"
     ]
    }
   ],
   "source": [
    "import nltk\n",
    "from nltk import CFG\n",
    "# Download required data\n",
    "nltk.download('punkt')\n",
    "# Define a new context-free grammar\n",
    "grammar = CFG.fromstring(\"\"\"\n",
    "S -> NP VP\n",
    "NP -> Det Adj N | Det N\n",
    "VP -> V NP\n",
    "Det -> 'a' | 'the'\n",
    "Adj -> 'big' | 'small' | 'furry'\n",
    "N -> 'cat' | 'mouse' | 'dog'\n",
    "V -> 'chased' | 'saw' | 'liked'\n",
    "\"\"\")\n",
    "# Create a parser\n",
    "parser = nltk.ChartParser(grammar)\n",
    "# Sentence to parse\n",
    "sentence = \"the big cat chased a small mouse\".split()\n",
    "# Parse the sentence\n",
    "print(\"Parsing Tree(s):\\n\")\n",
    "for tree in parser.parse(sentence):\n",
    "    print(tree)\n",
    "    tree.pretty_print()"
   ]
  }
 ],
 "metadata": {
  "kernelspec": {
   "display_name": ".venv",
   "language": "python",
   "name": "python3"
  },
  "language_info": {
   "codemirror_mode": {
    "name": "ipython",
    "version": 3
   },
   "file_extension": ".py",
   "mimetype": "text/x-python",
   "name": "python",
   "nbconvert_exporter": "python",
   "pygments_lexer": "ipython3",
   "version": "3.12.1"
  }
 },
 "nbformat": 4,
 "nbformat_minor": 5
}
