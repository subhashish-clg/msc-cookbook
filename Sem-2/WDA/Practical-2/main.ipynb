{
 "cells": [
  {
   "cell_type": "markdown",
   "id": "1e68fc19",
   "metadata": {},
   "source": [
    "## Web Data Analytics Practical 2\n",
    "\n",
    "Aim: Page Rank for link analysis using python Create a small set of pages namely page1,\n",
    "page2, page3 and page4 apply random walk on the same"
   ]
  },
  {
   "cell_type": "code",
   "execution_count": null,
   "id": "4670a48c",
   "metadata": {},
   "outputs": [],
   "source": [
    "!pip install numpy"
   ]
  },
  {
   "cell_type": "code",
   "execution_count": 1,
   "id": "a8d2d3c0",
   "metadata": {},
   "outputs": [
    {
     "name": "stdout",
     "output_type": "stream",
     "text": [
      "page1: 0.3797\n",
      "page2: 0.1989\n",
      "page3: 0.3839\n",
      "page4: 0.0375\n"
     ]
    }
   ],
   "source": [
    "import numpy as np\n",
    "\n",
    "links = {\n",
    "    'page1': ['page2', 'page3'],\n",
    "    'page2': ['page3'],\n",
    "    'page3': ['page1'],\n",
    "    'page4': ['page1', 'page3']\n",
    "}\n",
    "\n",
    "pages = list(links.keys())\n",
    "n_pages = len(pages)\n",
    "\n",
    "page_rank = {page: 1 / n_pages for page in pages}\n",
    "damping_factor = 0.85\n",
    "iterations = 100\n",
    "\n",
    "for _ in range(iterations):\n",
    "    new_page_rank = {page: (1 - damping_factor) / n_pages for page in pages}\n",
    "\n",
    "    for page, out_links in links.items():\n",
    "        if out_links:\n",
    "            share = page_rank[page] / len(out_links)\n",
    "            for linked_page in out_links:\n",
    "                new_page_rank[linked_page] += damping_factor * share\n",
    "\n",
    "    page_rank = new_page_rank\n",
    "\n",
    "# Output the final PageRank values\n",
    "for page, rank in page_rank.items():\n",
    "    print(f'{page}: {rank:.4f}')\n"
   ]
  }
 ],
 "metadata": {
  "kernelspec": {
   "display_name": ".venv",
   "language": "python",
   "name": "python3"
  },
  "language_info": {
   "codemirror_mode": {
    "name": "ipython",
    "version": 3
   },
   "file_extension": ".py",
   "mimetype": "text/x-python",
   "name": "python",
   "nbconvert_exporter": "python",
   "pygments_lexer": "ipython3",
   "version": "3.12.1"
  }
 },
 "nbformat": 4,
 "nbformat_minor": 5
}
