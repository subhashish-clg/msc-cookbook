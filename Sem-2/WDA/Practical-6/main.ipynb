{
 "cells": [
  {
   "cell_type": "markdown",
   "id": "fc54152b",
   "metadata": {},
   "source": [
    "Practical 6:\n",
    "Aim: Develop a basic crawler for the web search for user defined keywords."
   ]
  },
  {
   "cell_type": "code",
   "execution_count": 1,
   "id": "bd5d763b",
   "metadata": {},
   "outputs": [
    {
     "name": "stdout",
     "output_type": "stream",
     "text": [
      "Results for https://www.python.org:\n",
      "  Python: 63\n",
      "  web scraping: 0\n",
      "  data science: 0\n",
      "\n",
      "Results for https://www.datasciencecentral.com:\n",
      "  Python: 2\n",
      "  web scraping: 0\n",
      "  data science: 5\n",
      "\n",
      "Results for https://www.scrapinghub.com:\n",
      "  Python: 0\n",
      "  web scraping: 11\n",
      "  data science: 0\n",
      "\n"
     ]
    }
   ],
   "source": [
    "import requests\n",
    "from bs4 import BeautifulSoup\n",
    "\n",
    "keywords = [\"Python\", \"web scraping\", \"data science\"]\n",
    "\n",
    "def fetch_page(url):\n",
    "    try:\n",
    "        response = requests.get(url)\n",
    "        response.raise_for_status()\n",
    "        return response.text\n",
    "    except requests.RequestException as e:\n",
    "        print(f\"Error fetching {url}: {e}\")\n",
    "        return None\n",
    "\n",
    "def parse_page(html_content):\n",
    "    soup = BeautifulSoup(html_content, 'html.parser')\n",
    "    return soup\n",
    "\n",
    "def search_keywords(soup, keywords):\n",
    "    text = soup.get_text()\n",
    "    found_keywords = {keyword: text.lower().count(keyword.lower()) for keyword in keywords}\n",
    "    return found_keywords\n",
    "\n",
    "def display_results(url, found_keywords):\n",
    "    print(f\"Results for {url}:\")\n",
    "    for keyword, count in found_keywords.items():\n",
    "        print(f\"  {keyword}: {count}\")\n",
    "    print()\n",
    "\n",
    "urls = [\n",
    "    \"https://www.python.org\",\n",
    "    \"https://www.datasciencecentral.com\",\n",
    "    \"https://www.scrapinghub.com\"\n",
    "]\n",
    "\n",
    "for url in urls:\n",
    "    html_content = fetch_page(url)\n",
    "    if html_content:\n",
    "        soup = parse_page(html_content)\n",
    "        found_keywords = search_keywords(soup, keywords)\n",
    "        display_results(url, found_keywords)\n"
   ]
  }
 ],
 "metadata": {
  "kernelspec": {
   "display_name": ".venv",
   "language": "python",
   "name": "python3"
  },
  "language_info": {
   "codemirror_mode": {
    "name": "ipython",
    "version": 3
   },
   "file_extension": ".py",
   "mimetype": "text/x-python",
   "name": "python",
   "nbconvert_exporter": "python",
   "pygments_lexer": "ipython3",
   "version": "3.12.1"
  }
 },
 "nbformat": 4,
 "nbformat_minor": 5
}
